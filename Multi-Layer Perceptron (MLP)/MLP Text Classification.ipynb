{
 "cells": [
  {
   "cell_type": "code",
   "execution_count": null,
   "metadata": {},
   "outputs": [],
   "source": []
  },
  {
   "cell_type": "code",
   "execution_count": 1,
   "metadata": {},
   "outputs": [
    {
     "name": "stdout",
     "output_type": "stream",
     "text": [
      "Epoch 0, Loss: 1.2448\n",
      "Epoch 10, Loss: 0.9023\n",
      "Epoch 20, Loss: 0.7704\n",
      "Epoch 30, Loss: 0.5674\n",
      "Epoch 40, Loss: 0.3616\n",
      "Epoch 50, Loss: 0.1411\n",
      "Epoch 60, Loss: 0.0911\n",
      "Epoch 70, Loss: 0.2316\n",
      "Epoch 80, Loss: 0.7164\n",
      "Epoch 90, Loss: 0.1879\n",
      "Test Accuracy: 0.00%\n",
      "GVIC Cleaning Expenses\n",
      "GVAC Academic Program expense\n"
     ]
    }
   ],
   "source": [
    "import pandas as pd\n",
    "import torch\n",
    "import torch.nn as nn\n",
    "import torch.optim as optim\n",
    "from sklearn.feature_extraction.text import TfidfVectorizer\n",
    "from sklearn.model_selection import train_test_split\n",
    "from sklearn.preprocessing import LabelEncoder\n",
    "from sklearn.metrics import accuracy_score\n",
    "\n",
    "# Load data from Excel file\n",
    "def load_data_from_excel(file_path):\n",
    "    df = pd.read_excel(file_path)  # Read Excel file\n",
    "    texts = df['text'].tolist()    # Extract text column\n",
    "    labels = df['label'].tolist()  # Extract label column\n",
    "    return texts, labels\n",
    "\n",
    "# Load data\n",
    "file_path = r\"T:\\My Drive\\000 ihsan\\02 Courses\\003GIT\\Neural Networks and Deep Learning\\10.Artificial Neural Networks with Keras\\data.xlsx\"  # Path to your Excel file\n",
    "texts, labels = load_data_from_excel(file_path)\n",
    "\n",
    "# Convert text labels to numeric labels , LabelEncoder() is a class from sklearn.preprocessing\n",
    "label_encoder = LabelEncoder() \n",
    "# Converts the numerical labels into a PyTorch tensor with long data type \n",
    "y = torch.tensor(label_encoder.fit_transform(labels), dtype=torch.long)\n",
    "\n",
    "# Convert text to numerical features using TF-IDF\n",
    "vectorizer = TfidfVectorizer()\n",
    "X = torch.tensor(vectorizer.fit_transform(texts).toarray(), dtype=torch.float32)\n",
    "\n",
    "# Split data\n",
    "X_train, X_test, y_train, y_test = train_test_split(X, y, test_size=0.2, random_state=42)\n",
    "\n",
    "# Define MLP Model\n",
    "class MLPTextClassifier(nn.Module):\n",
    "    def __init__(self, input_size, hidden_size=16):\n",
    "        super().__init__()\n",
    "        self.model = nn.Sequential(\n",
    "            nn.Linear(input_size, hidden_size),\n",
    "            nn.ReLU(),\n",
    "            nn.Dropout(0.5),  # Add dropout for regularization\n",
    "            nn.Linear(hidden_size, len(label_encoder.classes_))  # Output classes dynamically\n",
    "        )\n",
    "\n",
    "    def forward(self, x):\n",
    "        return self.model(x)\n",
    "\n",
    "# Initialize model\n",
    "model = MLPTextClassifier(X.shape[1])\n",
    "criterion = nn.CrossEntropyLoss()\n",
    "optimizer = optim.Adam(model.parameters(), lr=0.01)\n",
    "\n",
    "# Training loop\n",
    "for epoch in range(100):\n",
    "    optimizer.zero_grad()\n",
    "    outputs = model(X_train)\n",
    "    loss = criterion(outputs, y_train)\n",
    "    loss.backward()\n",
    "    optimizer.step()\n",
    "    if epoch % 10 == 0:\n",
    "        print(f'Epoch {epoch}, Loss: {loss.item():.4f}')\n",
    "\n",
    "# Evaluate\n",
    "with torch.no_grad():\n",
    "    y_pred = torch.argmax(model(X_test), dim=1)\n",
    "    accuracy = accuracy_score(y_test.numpy(), y_pred.numpy())\n",
    "    print(f'Test Accuracy: {accuracy * 100:.2f}%')\n",
    "\n",
    "# Predict new text with confidence threshold\n",
    "def predict(text, confidence_threshold=0.7):\n",
    "    X_new = torch.tensor(vectorizer.transform([text]).toarray(), dtype=torch.float32)\n",
    "    logits = model(X_new)\n",
    "    probabilities = torch.softmax(logits, dim=1)\n",
    "    confidence, pred = torch.max(probabilities, dim=1)\n",
    "    if confidence.item() < confidence_threshold:\n",
    "        return \"Unknown\"\n",
    "    return label_encoder.inverse_transform([pred.item()])[0]\n",
    "\n",
    "# Example predictions\n",
    "print(predict(\"petrol for grass cutting\"))  # Should output \"GVIC Cleaning Expenses\"\n",
    "print(predict(\"random \"))  # Should output \"Unknown\" if confidence is low"
   ]
  },
  {
   "cell_type": "code",
   "execution_count": 2,
   "metadata": {},
   "outputs": [
    {
     "data": {
      "text/plain": [
       "(['Remuneration program',\n",
       "  'Inter net bill',\n",
       "  'Refreshment MIlk,Snaks&Nuts',\n",
       "  'petrol for grass cutting'],\n",
       " ['GVAC Academic Program expense',\n",
       "  'GVAC Mobile and internet expenses',\n",
       "  'GVAC Refreshment Expense',\n",
       "  'GVIC Cleaning Expenses'])"
      ]
     },
     "execution_count": 2,
     "metadata": {},
     "output_type": "execute_result"
    }
   ],
   "source": [
    "texts, labels"
   ]
  },
  {
   "cell_type": "code",
   "execution_count": null,
   "metadata": {},
   "outputs": [],
   "source": []
  }
 ],
 "metadata": {
  "kernelspec": {
   "display_name": "base",
   "language": "python",
   "name": "python3"
  },
  "language_info": {
   "codemirror_mode": {
    "name": "ipython",
    "version": 3
   },
   "file_extension": ".py",
   "mimetype": "text/x-python",
   "name": "python",
   "nbconvert_exporter": "python",
   "pygments_lexer": "ipython3",
   "version": "3.12.4"
  }
 },
 "nbformat": 4,
 "nbformat_minor": 2
}
