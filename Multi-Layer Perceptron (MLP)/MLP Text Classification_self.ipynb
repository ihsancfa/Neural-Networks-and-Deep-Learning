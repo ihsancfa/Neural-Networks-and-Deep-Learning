{
 "cells": [
  {
   "cell_type": "code",
   "execution_count": 2,
   "metadata": {},
   "outputs": [],
   "source": [
    "import pandas as pd\n",
    "import torch\n",
    "import torch.nn as nn\n",
    "import torch.optim as optim\n",
    "from sklearn.feature_extraction.text import TfidfVectorizer\n",
    "from sklearn.model_selection import train_test_split\n",
    "from sklearn.preprocessing import LabelEncoder\n",
    "from sklearn.metrics import accuracy_score"
   ]
  },
  {
   "cell_type": "code",
   "execution_count": null,
   "metadata": {},
   "outputs": [],
   "source": []
  },
  {
   "cell_type": "code",
   "execution_count": 3,
   "metadata": {},
   "outputs": [],
   "source": [
    "# load data from excel \n",
    "def data_from_excel(file_path):\n",
    "    df = pd.read_excel(file_path) # read excel file\n",
    "    text = df[\"text\"].tolist() # extract from colom\n",
    "    label = df[\"label\"].tolist()\n",
    "\n",
    "    return text , label"
   ]
  },
  {
   "cell_type": "code",
   "execution_count": 4,
   "metadata": {},
   "outputs": [
    {
     "data": {
      "text/plain": [
       "(['Remuneration program',\n",
       "  'Inter net bill',\n",
       "  'Refreshment MIlk,Snaks&Nuts',\n",
       "  'petrol for grass cutting'],\n",
       " ['GVAC Academic Program expense',\n",
       "  'GVAC Mobile and internet expenses',\n",
       "  'GVAC Refreshment Expense',\n",
       "  'GVIC Cleaning Expenses'])"
      ]
     },
     "execution_count": 4,
     "metadata": {},
     "output_type": "execute_result"
    }
   ],
   "source": [
    "file_path = r\"T:\\My Drive\\000 ihsan\\02 Courses\\003GIT\\Neural Networks and Deep Learning\\10.Artificial Neural Networks with Keras\\data.xlsx\"\n",
    "# Load data\n",
    "text,label = data_from_excel(file_path)\n",
    "text,label"
   ]
  },
  {
   "cell_type": "code",
   "execution_count": 5,
   "metadata": {},
   "outputs": [],
   "source": [
    "label_encoder = LabelEncoder() # converts categorical labels (text labels) into numerical labels\n",
    "y = torch.tensor(label_encoder.fit_transform(label),dtype=torch.long) # Converts the numerical labels into a PyTorch tensor with long data type , classification tasks in PyTorch\n",
    "\n",
    "vectorizer  = TfidfVectorizer() # convert text into numerical features using Term Frequency-Inverse Document Frequency (TF-IDF).\n",
    "x = torch.tensor(vectorizer.fit_transform(text).toarray(),dtype=torch.float32)"
   ]
  },
  {
   "cell_type": "code",
   "execution_count": 6,
   "metadata": {},
   "outputs": [
    {
     "data": {
      "text/plain": [
       "tensor([[0.0000, 0.0000, 0.0000, 0.0000, 0.0000, 0.0000, 0.0000, 0.0000, 0.0000,\n",
       "         0.7071, 0.0000, 0.7071, 0.0000],\n",
       "        [0.5774, 0.0000, 0.0000, 0.0000, 0.5774, 0.0000, 0.5774, 0.0000, 0.0000,\n",
       "         0.0000, 0.0000, 0.0000, 0.0000],\n",
       "        [0.0000, 0.0000, 0.0000, 0.0000, 0.0000, 0.5000, 0.0000, 0.5000, 0.0000,\n",
       "         0.0000, 0.5000, 0.0000, 0.5000],\n",
       "        [0.0000, 0.5000, 0.5000, 0.5000, 0.0000, 0.0000, 0.0000, 0.0000, 0.5000,\n",
       "         0.0000, 0.0000, 0.0000, 0.0000]])"
      ]
     },
     "execution_count": 6,
     "metadata": {},
     "output_type": "execute_result"
    }
   ],
   "source": [
    "x # TF-IDF transformed text data (X) serves as input features for a machine learning or deep learning model."
   ]
  },
  {
   "cell_type": "code",
   "execution_count": 7,
   "metadata": {},
   "outputs": [],
   "source": [
    "# train test split\n",
    "x_train,y_train,x_test,y_test = train_test_split(x,y,test_size = 0.2, random_state = 42)"
   ]
  },
  {
   "cell_type": "code",
   "execution_count": null,
   "metadata": {},
   "outputs": [],
   "source": []
  }
 ],
 "metadata": {
  "kernelspec": {
   "display_name": "base",
   "language": "python",
   "name": "python3"
  },
  "language_info": {
   "codemirror_mode": {
    "name": "ipython",
    "version": 3
   },
   "file_extension": ".py",
   "mimetype": "text/x-python",
   "name": "python",
   "nbconvert_exporter": "python",
   "pygments_lexer": "ipython3",
   "version": "3.12.4"
  }
 },
 "nbformat": 4,
 "nbformat_minor": 2
}
