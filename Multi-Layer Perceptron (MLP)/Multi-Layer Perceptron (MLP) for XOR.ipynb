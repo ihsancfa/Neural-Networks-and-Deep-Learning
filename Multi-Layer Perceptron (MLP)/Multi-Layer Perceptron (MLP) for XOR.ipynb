{
 "cells": [
  {
   "cell_type": "markdown",
   "metadata": {},
   "source": [
    "# Using NumPy"
   ]
  },
  {
   "cell_type": "code",
   "execution_count": 2,
   "metadata": {},
   "outputs": [
    {
     "name": "stdout",
     "output_type": "stream",
     "text": [
      "XOR(0, 0) = 0\n",
      "XOR(0, 1) = 1\n",
      "XOR(1, 0) = 1\n",
      "XOR(1, 1) = 0\n"
     ]
    }
   ],
   "source": [
    "import numpy as np \n",
    "\n",
    "# Step function (activation function)\n",
    "def step (x):\n",
    "    return np.where(x >0,1,0)\n",
    "\n",
    "# MLP Model with a Hidden Layer\n",
    "def mlp_xor(x1,x2):\n",
    "    \n",
    "    w_h = np.array([[1, 1],[1,1]])  #  hidden neurons x1 * 1 + x2 * 1 , x1*1 + x2 * 1 = x1+x2,x1+x2 , eg -: (5,5)\n",
    "    b_h = np.array([0.5,1.5]) # shape (1x2) bias\n",
    "    w_o = np.array([1,-1]) # use to add dot in equation to correct eg-: dot(h1,h2)(1,-1) = h1 - h2 \n",
    "\n",
    "    # Hidden layer weights and bias\n",
    "    hid1 = step(np.dot([[x1, x2]], w_h) - b_h) # step([x₁ + x₂ - 1.5, x₁ + x₂ - 0.5]) \n",
    "    \n",
    "\n",
    "    output = int(step(np.dot(hid1,w_o)).item())  # Use .item() to convert array to integer other wise output [1]\n",
    "\n",
    "    return output\n",
    "\n",
    "# Test XOR function\n",
    "for x1, x2 in [(0,0), (0,1), (1,0), (1,1)]:\n",
    "    print(f\"XOR({x1}, {x2}) = {mlp_xor(x1, x2)}\")"
   ]
  },
  {
   "cell_type": "code",
   "execution_count": null,
   "metadata": {},
   "outputs": [],
   "source": []
  },
  {
   "cell_type": "markdown",
   "metadata": {},
   "source": [
    "# Using TensorFlow (Neural Network)"
   ]
  },
  {
   "cell_type": "markdown",
   "metadata": {},
   "source": [
    "Sequential: A linear stack of layers in Keras.\n",
    "layers.Dense = Dense layers are fundamental building blocks of neural networks"
   ]
  },
  {
   "cell_type": "markdown",
   "metadata": {},
   "source": [
    "model.compile\n",
    "\n",
    "configuring these arguments, you can tailor the training process to best fit your specific model, task, and performance requirements"
   ]
  },
  {
   "cell_type": "code",
   "execution_count": 3,
   "metadata": {},
   "outputs": [
    {
     "name": "stdout",
     "output_type": "stream",
     "text": [
      "\u001b[1m1/1\u001b[0m \u001b[32m━━━━━━━━━━━━━━━━━━━━\u001b[0m\u001b[37m\u001b[0m \u001b[1m0s\u001b[0m 60ms/step\n",
      "Predicted outputs:\n",
      "[[0.]\n",
      " [1.]\n",
      " [1.]\n",
      " [0.]]\n"
     ]
    }
   ],
   "source": [
    "import tensorflow as tf\n",
    "import numpy as np\n",
    "\n",
    "# Training data for XOR\n",
    "X = np.array([[0, 0], [0, 1], [1, 0], [1, 1]])\n",
    "y = np.array([[0], [1], [1], [0]])  # XOR outputs\n",
    "\n",
    "# Build an MLP model\n",
    "model = tf.keras.Sequential([\n",
    "    tf.keras.layers.Dense(4, activation=\"relu\"),  # Hidden layer with 4 neurons and ReLU\n",
    "    tf.keras.layers.Dense(1, activation=\"sigmoid\")  # Output layer\n",
    "])\n",
    "\n",
    "# Compile the model\n",
    "model.compile(\n",
    "    loss=\"binary_crossentropy\",\n",
    "    optimizer=tf.keras.optimizers.Adam(learning_rate=0.01),  # Adjusted learning rate, XOR problem, a learning rate of 0.01 often works better than the default 0.001.\n",
    "    metrics=[\"accuracy\"]\n",
    ")\n",
    "\n",
    "# Train the model\n",
    "model.fit(X, y, epochs=100, verbose=0)  # Train for 1000 epochs\n",
    "\n",
    "# Test predictions\n",
    "predictions = model.predict(X)\n",
    "print(\"Predicted outputs:\")\n",
    "print(np.round(predictions))  # Round to 0 or 1 for binary classification"
   ]
  },
  {
   "cell_type": "code",
   "execution_count": 4,
   "metadata": {},
   "outputs": [
    {
     "name": "stdout",
     "output_type": "stream",
     "text": [
      "Epoch 1/5\n"
     ]
    },
    {
     "name": "stderr",
     "output_type": "stream",
     "text": [
      "C:\\Users\\admin\\AppData\\Roaming\\Python\\Python312\\site-packages\\keras\\src\\layers\\core\\dense.py:87: UserWarning: Do not pass an `input_shape`/`input_dim` argument to a layer. When using Sequential models, prefer using an `Input(shape)` object as the first layer in the model instead.\n",
      "  super().__init__(activity_regularizer=activity_regularizer, **kwargs)\n"
     ]
    },
    {
     "name": "stdout",
     "output_type": "stream",
     "text": [
      "\u001b[1m10/10\u001b[0m \u001b[32m━━━━━━━━━━━━━━━━━━━━\u001b[0m\u001b[37m\u001b[0m \u001b[1m1s\u001b[0m 1ms/step - accuracy: 0.5481 - loss: 0.7023\n",
      "Epoch 2/5\n",
      "\u001b[1m10/10\u001b[0m \u001b[32m━━━━━━━━━━━━━━━━━━━━\u001b[0m\u001b[37m\u001b[0m \u001b[1m0s\u001b[0m 1ms/step - accuracy: 0.4913 - loss: 0.6962 \n",
      "Epoch 3/5\n",
      "\u001b[1m10/10\u001b[0m \u001b[32m━━━━━━━━━━━━━━━━━━━━\u001b[0m\u001b[37m\u001b[0m \u001b[1m0s\u001b[0m 1ms/step - accuracy: 0.5651 - loss: 0.6861 \n",
      "Epoch 4/5\n",
      "\u001b[1m10/10\u001b[0m \u001b[32m━━━━━━━━━━━━━━━━━━━━\u001b[0m\u001b[37m\u001b[0m \u001b[1m0s\u001b[0m 1ms/step - accuracy: 0.5129 - loss: 0.6992 \n",
      "Epoch 5/5\n",
      "\u001b[1m10/10\u001b[0m \u001b[32m━━━━━━━━━━━━━━━━━━━━\u001b[0m\u001b[37m\u001b[0m \u001b[1m0s\u001b[0m 1ms/step - accuracy: 0.5903 - loss: 0.6808 \n",
      "\u001b[1m4/4\u001b[0m \u001b[32m━━━━━━━━━━━━━━━━━━━━\u001b[0m\u001b[37m\u001b[0m \u001b[1m0s\u001b[0m 2ms/step - accuracy: 0.5552 - loss: 0.6771  \n",
      "Test accuracy: 0.5600000023841858\n"
     ]
    }
   ],
   "source": [
    "from keras.models import Sequential\n",
    "from keras.layers import Dense\n",
    "\n",
    "# Create a Sequential model\n",
    "model = Sequential()\n",
    "\n",
    "# Add a Dense layer with 32 units and ReLU activation\n",
    "model.add(Dense(32, activation='relu', input_shape=(8,)))\n",
    "\n",
    "# Add another Dense layer with 1 unit (for binary classification)\n",
    "model.add(Dense(1, activation='sigmoid'))\n",
    "\n",
    "# Compile the model\n",
    "model.compile(optimizer='adam', loss='binary_crossentropy', metrics=['accuracy'])\n",
    "\n",
    "# Example dummy data\n",
    "import numpy as np\n",
    "X_train = np.random.random((100, 8))  # 100 samples, each with 8 features\n",
    "y_train = np.random.randint(2, size=(100, 1))  # 100 labels (binary)\n",
    "\n",
    "# Train the model\n",
    "model.fit(X_train, y_train, epochs=5, batch_size=10)\n",
    "\n",
    "# Evaluate the model\n",
    "test_loss, test_acc = model.evaluate(X_train, y_train)\n",
    "print(f\"Test accuracy: {test_acc}\")\n"
   ]
  },
  {
   "cell_type": "code",
   "execution_count": 5,
   "metadata": {},
   "outputs": [
    {
     "name": "stdout",
     "output_type": "stream",
     "text": [
      "Epoch [100/500], Loss: 0.0000\n",
      "Epoch [200/500], Loss: 0.0000\n",
      "Epoch [300/500], Loss: 0.0000\n",
      "Epoch [400/500], Loss: 0.0000\n",
      "Epoch [500/500], Loss: 0.0000\n",
      "Predicted: 118.00, Actual: 118.00\n",
      "Predicted: 104.00, Actual: 104.00\n"
     ]
    }
   ],
   "source": [
    "import torch\n",
    "import torch.nn as nn\n",
    "import torch.optim as optim\n",
    "import numpy as np\n",
    "import pandas as pd\n",
    "from sklearn.preprocessing import MinMaxScaler\n",
    "from sklearn.model_selection import train_test_split\n",
    "\n",
    "# Sample data (Replace with real stock price data)\n",
    "data = {\n",
    "    \"Open\": [100, 102, 104, 106, 108, 110, 112, 114, 116, 118],\n",
    "    \"Close\": [102, 104, 106, 108, 110, 112, 114, 116, 118, 120]\n",
    "}\n",
    "df = pd.DataFrame(data)\n",
    "\n",
    "# Normalize data\n",
    "scaler = MinMaxScaler()\n",
    "scaled_data = scaler.fit_transform(df)\n",
    "\n",
    "# Split input (X) and output (Y)\n",
    "X = scaled_data[:, 0].reshape(-1, 1)  # Open Price\n",
    "Y = scaled_data[:, 1].reshape(-1, 1)  # Close Price\n",
    "\n",
    "# Convert to PyTorch tensors\n",
    "X_train, X_test, Y_train, Y_test = train_test_split(X, Y, test_size=0.2, random_state=42)\n",
    "X_train, Y_train = torch.Tensor(X_train), torch.Tensor(Y_train)\n",
    "X_test, Y_test = torch.Tensor(X_test), torch.Tensor(Y_test)\n",
    "\n",
    "# Define MLP Model\n",
    "class MLP(nn.Module):\n",
    "    def __init__(self):\n",
    "        super(MLP, self).__init__()\n",
    "        self.fc1 = nn.Linear(1, 16)  # Input layer\n",
    "        self.fc2 = nn.Linear(16, 32)  # Hidden layer\n",
    "        self.fc3 = nn.Linear(32, 1)  # Output layer\n",
    "        self.relu = nn.ReLU()\n",
    "\n",
    "    def forward(self, x):\n",
    "        x = self.relu(self.fc1(x))\n",
    "        x = self.relu(self.fc2(x))\n",
    "        x = self.fc3(x)\n",
    "        return x\n",
    "\n",
    "# Create model, loss function, and optimizer\n",
    "model = MLP()\n",
    "criterion = nn.MSELoss()  # Mean Squared Error for regression\n",
    "optimizer = optim.Adam(model.parameters(), lr=0.01)\n",
    "\n",
    "# Train the model\n",
    "epochs = 500\n",
    "for epoch in range(epochs):\n",
    "    model.train()\n",
    "    optimizer.zero_grad()\n",
    "    output = model(X_train)\n",
    "    loss = criterion(output, Y_train)\n",
    "    loss.backward()\n",
    "    optimizer.step()\n",
    "    \n",
    "    if (epoch + 1) % 100 == 0:\n",
    "        print(f\"Epoch [{epoch+1}/{epochs}], Loss: {loss.item():.4f}\")\n",
    "\n",
    "# Evaluate the model\n",
    "model.eval()\n",
    "predicted = model(X_test).detach().numpy()\n",
    "actual = Y_test.numpy()\n",
    "\n",
    "# Convert predictions back to original scale\n",
    "predicted = scaler.inverse_transform(np.column_stack((X_test.numpy(), predicted)))[:, 1]\n",
    "actual = scaler.inverse_transform(np.column_stack((X_test.numpy(), actual)))[:, 1]\n",
    "\n",
    "# Print Sample Predictions\n",
    "for i in range(len(predicted)):\n",
    "    print(f\"Predicted: {predicted[i]:.2f}, Actual: {actual[i]:.2f}\")\n"
   ]
  },
  {
   "cell_type": "code",
   "execution_count": 1,
   "metadata": {},
   "outputs": [
    {
     "name": "stdout",
     "output_type": "stream",
     "text": [
      "Epoch [0/100], Loss: 0.6553\n",
      "Epoch [10/100], Loss: 0.4409\n",
      "Epoch [20/100], Loss: 0.1746\n",
      "Epoch [30/100], Loss: 0.0333\n",
      "Epoch [40/100], Loss: 0.0064\n",
      "Epoch [50/100], Loss: 0.0023\n",
      "Epoch [60/100], Loss: 0.0013\n",
      "Epoch [70/100], Loss: 0.0010\n",
      "Epoch [80/100], Loss: 0.0008\n",
      "Epoch [90/100], Loss: 0.0007\n",
      "Test Accuracy: 0.00%\n"
     ]
    }
   ],
   "source": [
    "import torch\n",
    "import torch.nn as nn\n",
    "import torch.optim as optim\n",
    "from sklearn.feature_extraction.text import CountVectorizer\n",
    "from sklearn.model_selection import train_test_split\n",
    "import numpy as np\n",
    "\n",
    "# Sample dataset\n",
    "texts = [\"I love this product\", \"Worst experience ever\", \"Absolutely fantastic\", \n",
    "         \"Not good at all\", \"I will buy again\", \"I hate it\", \"So bad\", \"Highly recommend it\"]\n",
    "labels = [1, 0, 1, 0, 1, 0, 0, 1]  # 1 = Positive, 0 = Negative\n",
    "\n",
    "# Convert text data into numerical features using CountVectorizer\n",
    "vectorizer = CountVectorizer(binary=True)\n",
    "X = vectorizer.fit_transform(texts).toarray()\n",
    "y = np.array(labels)\n",
    "\n",
    "# Split into train and test sets\n",
    "X_train, X_test, y_train, y_test = train_test_split(X, y, test_size=0.2, random_state=42)\n",
    "\n",
    "# Convert to PyTorch tensors\n",
    "X_train_tensor = torch.tensor(X_train, dtype=torch.float32)\n",
    "y_train_tensor = torch.tensor(y_train, dtype=torch.long)\n",
    "X_test_tensor = torch.tensor(X_test, dtype=torch.float32)\n",
    "y_test_tensor = torch.tensor(y_test, dtype=torch.long)\n",
    "\n",
    "# Define MLP Model\n",
    "class MLPTextClassifier(nn.Module):\n",
    "    def __init__(self, input_size, hidden_size, output_size):\n",
    "        super(MLPTextClassifier, self).__init__()\n",
    "        self.fc1 = nn.Linear(input_size, hidden_size)\n",
    "        self.relu = nn.ReLU()\n",
    "        self.fc2 = nn.Linear(hidden_size, output_size)\n",
    "    \n",
    "    def forward(self, x):\n",
    "        x = self.fc1(x)\n",
    "        x = self.relu(x)\n",
    "        x = self.fc2(x)\n",
    "        return x\n",
    "\n",
    "# Model parameters\n",
    "input_size = X_train.shape[1]  # Number of features\n",
    "hidden_size = 16\n",
    "output_size = 2  # Binary classification (Positive/Negative)\n",
    "\n",
    "# Initialize model\n",
    "model = MLPTextClassifier(input_size, hidden_size, output_size)\n",
    "\n",
    "# Loss and optimizer\n",
    "criterion = nn.CrossEntropyLoss()\n",
    "optimizer = optim.Adam(model.parameters(), lr=0.01)\n",
    "\n",
    "# Training loop\n",
    "epochs = 100\n",
    "for epoch in range(epochs):\n",
    "    optimizer.zero_grad()\n",
    "    outputs = model(X_train_tensor)\n",
    "    loss = criterion(outputs, y_train_tensor)\n",
    "    loss.backward()\n",
    "    optimizer.step()\n",
    "    \n",
    "    if epoch % 10 == 0:\n",
    "        print(f'Epoch [{epoch}/{epochs}], Loss: {loss.item():.4f}')\n",
    "\n",
    "# Evaluate the model\n",
    "with torch.no_grad():\n",
    "    test_outputs = model(X_test_tensor)\n",
    "    predictions = torch.argmax(test_outputs, dim=1)\n",
    "    accuracy = (predictions == y_test_tensor).sum().item() / len(y_test_tensor)\n",
    "    print(f'Test Accuracy: {accuracy * 100:.2f}%')\n"
   ]
  },
  {
   "cell_type": "code",
   "execution_count": null,
   "metadata": {},
   "outputs": [],
   "source": []
  }
 ],
 "metadata": {
  "kernelspec": {
   "display_name": "base",
   "language": "python",
   "name": "python3"
  },
  "language_info": {
   "codemirror_mode": {
    "name": "ipython",
    "version": 3
   },
   "file_extension": ".py",
   "mimetype": "text/x-python",
   "name": "python",
   "nbconvert_exporter": "python",
   "pygments_lexer": "ipython3",
   "version": "3.12.4"
  }
 },
 "nbformat": 4,
 "nbformat_minor": 2
}
