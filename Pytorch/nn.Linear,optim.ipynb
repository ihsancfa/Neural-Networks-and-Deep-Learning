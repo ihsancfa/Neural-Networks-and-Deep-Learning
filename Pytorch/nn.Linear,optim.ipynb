{
 "cells": [
  {
   "cell_type": "code",
   "execution_count": 1,
   "metadata": {},
   "outputs": [],
   "source": [
    "import torch\n",
    "import torch.nn as nn"
   ]
  },
  {
   "cell_type": "code",
   "execution_count": null,
   "metadata": {},
   "outputs": [],
   "source": [
    "\n",
    "\n",
    "class FirstNetwork_v1(nn.Module):\n",
    "    def __init__(self):\n",
    "        super().__init__()\n",
    "        torch.manual_seed(0)\n",
    "        self.lin1 = nn.Linear(2, 2) # ist leyer 2 input and 2 output ,weight initialise replace structure difine  using linear\n",
    "        self.lin2 = nn.Linear(2, 4) # 2 input 4 output\n",
    "\n",
    "    def forward(self, X):\n",
    "        a1 = self.lin1(X) # 1st leyer input , automatic multiply and sum\n",
    "        h1 = a1.sigmoid()  # or torch.sigmoid(a1) , 1st leyer output , \n",
    "        a2 = self.lin2(h1) # 2nd leyer input \n",
    "        h2 = a2.exp() / a2.exp().sum(-1).unsqueeze(-1)  # Softmax ,2nd leyer output ,softmax -  each nuron expo \n",
    "        return h2"
   ]
  },
  {
   "cell_type": "code",
   "execution_count": 7,
   "metadata": {},
   "outputs": [
    {
     "ename": "NameError",
     "evalue": "name 'fit' is not defined",
     "output_type": "error",
     "traceback": [
      "\u001b[1;31m---------------------------------------------------------------------------\u001b[0m",
      "\u001b[1;31mNameError\u001b[0m                                 Traceback (most recent call last)",
      "Cell \u001b[1;32mIn[7], line 2\u001b[0m\n\u001b[0;32m      1\u001b[0m fn \u001b[38;5;241m=\u001b[39m FirstNetwork_v1()\n\u001b[1;32m----> 2\u001b[0m fit()\n",
      "\u001b[1;31mNameError\u001b[0m: name 'fit' is not defined"
     ]
    }
   ],
   "source": [
    "fn = FirstNetwork_v1()\n",
    "fit()"
   ]
  },
  {
   "cell_type": "code",
   "execution_count": null,
   "metadata": {},
   "outputs": [],
   "source": []
  }
 ],
 "metadata": {
  "kernelspec": {
   "display_name": "base",
   "language": "python",
   "name": "python3"
  },
  "language_info": {
   "codemirror_mode": {
    "name": "ipython",
    "version": 3
   },
   "file_extension": ".py",
   "mimetype": "text/x-python",
   "name": "python",
   "nbconvert_exporter": "python",
   "pygments_lexer": "ipython3",
   "version": "3.12.4"
  }
 },
 "nbformat": 4,
 "nbformat_minor": 2
}
