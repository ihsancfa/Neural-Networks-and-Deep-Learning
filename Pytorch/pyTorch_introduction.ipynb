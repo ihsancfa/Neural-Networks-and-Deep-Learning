{
 "cells": [
  {
   "cell_type": "code",
   "execution_count": 81,
   "metadata": {},
   "outputs": [],
   "source": [
    "import torch\n",
    "import numpy as np  \n",
    "import matplotlib.pyplot as plt "
   ]
  },
  {
   "cell_type": "code",
   "execution_count": 82,
   "metadata": {},
   "outputs": [
    {
     "name": "stdout",
     "output_type": "stream",
     "text": [
      "tensor([[1., 1.],\n",
      "        [1., 1.],\n",
      "        [1., 1.]])\n",
      "tensor([[0., 0.],\n",
      "        [0., 0.],\n",
      "        [0., 0.]])\n",
      "tensor([[0.4210, 0.4567],\n",
      "        [0.2381, 0.3497],\n",
      "        [0.5910, 0.8676]])\n"
     ]
    }
   ],
   "source": [
    "x = torch.ones(3,2) # create tensor , 3 row 2 colom , fill 1\n",
    "print(x)\n",
    "x = torch.zeros(3,2)\n",
    "print(x)\n",
    "x = torch.rand(3,2)\n",
    "print(x)"
   ]
  },
  {
   "cell_type": "code",
   "execution_count": 83,
   "metadata": {},
   "outputs": [
    {
     "name": "stdout",
     "output_type": "stream",
     "text": [
      "tensor([[1.6171e-27, 1.3018e-42],\n",
      "        [1.0000e+00, 1.0000e+00],\n",
      "        [1.0000e+00, 1.0000e+00]])\n",
      "tensor([[0., 0.],\n",
      "        [0., 0.],\n",
      "        [0., 0.]])\n"
     ]
    }
   ],
   "source": [
    "x = torch.empty(3,2)\n",
    "print(x)\n",
    "\n",
    "y = torch.zeros_like(x)\n",
    "print(y)"
   ]
  },
  {
   "cell_type": "code",
   "execution_count": 84,
   "metadata": {},
   "outputs": [
    {
     "name": "stdout",
     "output_type": "stream",
     "text": [
      "tensor([0.0000, 0.2500, 0.5000, 0.7500, 1.0000])\n"
     ]
    }
   ],
   "source": [
    "x = torch.linspace(0,1,steps=5)\n",
    "print(x)"
   ]
  },
  {
   "cell_type": "code",
   "execution_count": 85,
   "metadata": {},
   "outputs": [
    {
     "name": "stdout",
     "output_type": "stream",
     "text": [
      "tensor([[1, 2],\n",
      "        [3, 4],\n",
      "        [5, 6]])\n"
     ]
    }
   ],
   "source": [
    "x = torch.tensor([[1,2],[3,4],[5,6]])\n",
    "print(x)"
   ]
  },
  {
   "cell_type": "markdown",
   "metadata": {},
   "source": [
    "### Slicing Tensors"
   ]
  },
  {
   "cell_type": "code",
   "execution_count": 86,
   "metadata": {},
   "outputs": [
    {
     "name": "stdout",
     "output_type": "stream",
     "text": [
      "torch.Size([3, 2])\n",
      "tensor([2, 4, 6])\n",
      "tensor([1, 2])\n"
     ]
    }
   ],
   "source": [
    "print(x.size())\n",
    "print(x[:,1]) # all rows 1st colom\n",
    "print(x[0,:]) # 0 row all colom"
   ]
  },
  {
   "cell_type": "code",
   "execution_count": 87,
   "metadata": {},
   "outputs": [
    {
     "name": "stdout",
     "output_type": "stream",
     "text": [
      "tensor(4)\n",
      "4\n"
     ]
    }
   ],
   "source": [
    "y = x[1,1] # numy is matrix , array in this case tensor\n",
    "print(y)\n",
    "print(y.item())"
   ]
  },
  {
   "cell_type": "markdown",
   "metadata": {},
   "source": [
    "### Reshape tensor"
   ]
  },
  {
   "cell_type": "code",
   "execution_count": 88,
   "metadata": {},
   "outputs": [
    {
     "name": "stdout",
     "output_type": "stream",
     "text": [
      "tensor([[1, 2],\n",
      "        [3, 4],\n",
      "        [5, 6]])\n",
      "torch.Size([3, 2])\n",
      "tensor([[1, 2, 3],\n",
      "        [4, 5, 6]])\n",
      "torch.Size([2, 3])\n"
     ]
    }
   ],
   "source": [
    "print(x)\n",
    "print(x.size())\n",
    "y = x.view(2,3)\n",
    "print(y)\n",
    "print(y.size())"
   ]
  },
  {
   "cell_type": "code",
   "execution_count": 89,
   "metadata": {},
   "outputs": [
    {
     "name": "stdout",
     "output_type": "stream",
     "text": [
      "tensor([[1],\n",
      "        [2],\n",
      "        [3],\n",
      "        [4],\n",
      "        [5],\n",
      "        [6]])\n"
     ]
    }
   ],
   "source": [
    "y = x.view(6,-1)\n",
    "print(y)"
   ]
  },
  {
   "cell_type": "markdown",
   "metadata": {},
   "source": [
    "# Sum , * , -"
   ]
  },
  {
   "cell_type": "code",
   "execution_count": 90,
   "metadata": {},
   "outputs": [
    {
     "name": "stdout",
     "output_type": "stream",
     "text": [
      "tensor([[1., 1.],\n",
      "        [1., 1.],\n",
      "        [1., 1.]])\n",
      "tensor([[1., 1.],\n",
      "        [1., 1.],\n",
      "        [1., 1.]])\n",
      "tensor([[2., 2.],\n",
      "        [2., 2.],\n",
      "        [2., 2.]])\n",
      "tensor([[0., 0.],\n",
      "        [0., 0.],\n",
      "        [0., 0.]])\n",
      "tensor([[1., 1.],\n",
      "        [1., 1.],\n",
      "        [1., 1.]])\n"
     ]
    }
   ],
   "source": [
    "x = torch.ones(3,2) # create tensor , 3 row 2 colom , fill 1\n",
    "print(x)\n",
    "y = torch.ones(3,2)\n",
    "print(x)\n",
    "z = x + y\n",
    "print(z)\n",
    "z = x - y \n",
    "print(z)\n",
    "z = x*y\n",
    "print(z)"
   ]
  },
  {
   "cell_type": "code",
   "execution_count": 91,
   "metadata": {},
   "outputs": [
    {
     "name": "stdout",
     "output_type": "stream",
     "text": [
      "tensor([[2., 2.],\n",
      "        [2., 2.],\n",
      "        [2., 2.]])\n",
      "tensor([[1., 1.],\n",
      "        [1., 1.],\n",
      "        [1., 1.]])\n"
     ]
    }
   ],
   "source": [
    "z = x.add(y) # addition y add with x\n",
    "print(z)\n",
    "print(x)"
   ]
  },
  {
   "cell_type": "code",
   "execution_count": 92,
   "metadata": {},
   "outputs": [
    {
     "name": "stdout",
     "output_type": "stream",
     "text": [
      "tensor([[2., 2.],\n",
      "        [2., 2.],\n",
      "        [2., 2.]])\n",
      "tensor([[2., 2.],\n",
      "        [2., 2.],\n",
      "        [2., 2.]])\n"
     ]
    }
   ],
   "source": [
    "z = y.add_(x) # y add x then value save to y , change y value\n",
    "print(z)\n",
    "print(y)"
   ]
  },
  {
   "cell_type": "markdown",
   "metadata": {},
   "source": [
    "### PyTorch Vs Numpy"
   ]
  },
  {
   "cell_type": "code",
   "execution_count": 93,
   "metadata": {},
   "outputs": [
    {
     "name": "stdout",
     "output_type": "stream",
     "text": [
      "tensor([[1., 1.],\n",
      "        [1., 1.],\n",
      "        [1., 1.]])\n",
      "<class 'torch.Tensor'> <class 'numpy.ndarray'>\n",
      "[[1. 1.]\n",
      " [1. 1.]\n",
      " [1. 1.]]\n"
     ]
    }
   ],
   "source": [
    "print(x)\n",
    "x_np = x.numpy()\n",
    "\n",
    "print(type(x),type(x_np))\n",
    "print(x_np)"
   ]
  },
  {
   "cell_type": "code",
   "execution_count": 94,
   "metadata": {},
   "outputs": [
    {
     "name": "stdout",
     "output_type": "stream",
     "text": [
      "[0.76464461 0.23165213 0.63798964 0.37385633 0.28097289]\n",
      "<class 'numpy.ndarray'> <class 'torch.Tensor'>\n",
      "tensor([0.7646, 0.2317, 0.6380, 0.3739, 0.2810], dtype=torch.float64)\n"
     ]
    }
   ],
   "source": [
    "a = np.random.rand(5)\n",
    "print(a)\n",
    "\n",
    "a_pt = torch.from_numpy(a)\n",
    "print(type(a) , type(a_pt))\n",
    "\n",
    "print(a_pt)"
   ]
  },
  {
   "cell_type": "code",
   "execution_count": 95,
   "metadata": {},
   "outputs": [
    {
     "name": "stdout",
     "output_type": "stream",
     "text": [
      "[1.76464461 1.23165213 1.63798964 1.37385633 1.28097289]\n",
      "tensor([1.7646, 1.2317, 1.6380, 1.3739, 1.2810], dtype=torch.float64)\n"
     ]
    }
   ],
   "source": [
    "np.add(a,1,out=a) # above a array add 1\n",
    "print(a)\n",
    "print(a_pt)"
   ]
  },
  {
   "cell_type": "code",
   "execution_count": 96,
   "metadata": {},
   "outputs": [
    {
     "name": "stdout",
     "output_type": "stream",
     "text": [
      "CPU times: total: 31.2 ms\n",
      "Wall time: 44 ms\n"
     ]
    }
   ],
   "source": [
    "%%time\n",
    "for i in range(100):\n",
    "    a = np.random.randn(100,100)\n",
    "    b = np.random.randn(100,100)\n",
    "    c = a*b\n",
    "    #d = np.matmul(a,b)"
   ]
  },
  {
   "cell_type": "code",
   "execution_count": 97,
   "metadata": {},
   "outputs": [
    {
     "name": "stdout",
     "output_type": "stream",
     "text": [
      "CPU times: total: 0 ns\n",
      "Wall time: 16 ms\n"
     ]
    }
   ],
   "source": [
    "%%time\n",
    "for i in range(100):\n",
    "    a = torch.randn(100,100)\n",
    "    b = torch.randn(100,100)\n",
    "    c = a*b\n",
    "    #d = torch.matmul(a,b)\n"
   ]
  },
  {
   "cell_type": "code",
   "execution_count": 98,
   "metadata": {},
   "outputs": [
    {
     "name": "stdout",
     "output_type": "stream",
     "text": [
      "CPU times: total: 500 ms\n",
      "Wall time: 529 ms\n"
     ]
    }
   ],
   "source": [
    "%%time\n",
    "for i in range(10):\n",
    "    a = np.random.randn(1000,1000)\n",
    "    b = np.random.randn(1000,1000)\n",
    "    c = a*b"
   ]
  },
  {
   "cell_type": "code",
   "execution_count": 99,
   "metadata": {},
   "outputs": [
    {
     "name": "stdout",
     "output_type": "stream",
     "text": [
      "CPU times: total: 734 ms\n",
      "Wall time: 192 ms\n"
     ]
    }
   ],
   "source": [
    "%%time\n",
    "for i in range(10):\n",
    "    a = torch.randn(1000,1000)\n",
    "    b = torch.randn(1000,1000)\n",
    "    c = a*b"
   ]
  },
  {
   "cell_type": "markdown",
   "metadata": {},
   "source": [
    "### CUDA Support (gpu support)"
   ]
  },
  {
   "cell_type": "code",
   "execution_count": 100,
   "metadata": {},
   "outputs": [
    {
     "name": "stdout",
     "output_type": "stream",
     "text": [
      "0\n"
     ]
    }
   ],
   "source": [
    "print(torch.cuda.device_count()) # google colab GPU add save "
   ]
  },
  {
   "cell_type": "code",
   "execution_count": 101,
   "metadata": {},
   "outputs": [
    {
     "name": "stdout",
     "output_type": "stream",
     "text": [
      "<torch.cuda.device object at 0x00000228825BF980>\n"
     ]
    }
   ],
   "source": [
    "print(torch.cuda.device(0))\n",
    "#print(torch.cuda.get_device_name(0))"
   ]
  },
  {
   "cell_type": "code",
   "execution_count": 102,
   "metadata": {},
   "outputs": [],
   "source": [
    "#cuda0 = torch.ones(3,2,device='cuda:0')"
   ]
  },
  {
   "cell_type": "code",
   "execution_count": 103,
   "metadata": {},
   "outputs": [
    {
     "name": "stdout",
     "output_type": "stream",
     "text": [
      "CPU times: total: 0 ns\n",
      "Wall time: 0 ns\n"
     ]
    }
   ],
   "source": [
    "%%time \n",
    "#for i in range(10):\n",
    "    #a = torch.randn([10000, 10000], device='cuda:0')  # Use 'cuda:0' for clarity\n",
    "    #b = torch.randn([10000, 10000], device='cuda:0')  # Use 'cuda:0' for clarity"
   ]
  },
  {
   "cell_type": "markdown",
   "metadata": {},
   "source": [
    "### Auto Differenciation"
   ]
  },
  {
   "cell_type": "code",
   "execution_count": 104,
   "metadata": {},
   "outputs": [
    {
     "name": "stdout",
     "output_type": "stream",
     "text": [
      "tensor([[1., 1.],\n",
      "        [1., 1.],\n",
      "        [1., 1.]], requires_grad=True)\n"
     ]
    }
   ],
   "source": [
    "x = torch.ones([3,2],requires_grad = True)\n",
    "print(x)"
   ]
  },
  {
   "cell_type": "code",
   "execution_count": 105,
   "metadata": {},
   "outputs": [
    {
     "name": "stdout",
     "output_type": "stream",
     "text": [
      "tensor([[6., 6.],\n",
      "        [6., 6.],\n",
      "        [6., 6.]], grad_fn=<AddBackward0>)\n"
     ]
    }
   ],
   "source": [
    "y = x +5 \n",
    "print(y)"
   ]
  },
  {
   "cell_type": "code",
   "execution_count": 106,
   "metadata": {},
   "outputs": [
    {
     "name": "stdout",
     "output_type": "stream",
     "text": [
      "tensor([[37., 37.],\n",
      "        [37., 37.],\n",
      "        [37., 37.]], grad_fn=<AddBackward0>)\n"
     ]
    }
   ],
   "source": [
    "z = y*y +1 \n",
    "print(z)"
   ]
  },
  {
   "cell_type": "code",
   "execution_count": 107,
   "metadata": {},
   "outputs": [
    {
     "name": "stdout",
     "output_type": "stream",
     "text": [
      "tensor(222., grad_fn=<SumBackward0>)\n"
     ]
    }
   ],
   "source": [
    "t = torch.sum(z)\n",
    "print(t)"
   ]
  },
  {
   "attachments": {
    "image.png": {
     "image/png": "[encoded data removed]"
    }
   },
   "cell_type": "markdown",
   "metadata": {},
   "source": [
    "![image.png](attachment:image.png)"
   ]
  },
  {
   "cell_type": "code",
   "execution_count": 108,
   "metadata": {},
   "outputs": [],
   "source": [
    "t.backward()"
   ]
  },
  {
   "cell_type": "code",
   "execution_count": 109,
   "metadata": {},
   "outputs": [
    {
     "name": "stdout",
     "output_type": "stream",
     "text": [
      "tensor([[12., 12.],\n",
      "        [12., 12.],\n",
      "        [12., 12.]])\n"
     ]
    }
   ],
   "source": [
    "print(x.grad) # "
   ]
  },
  {
   "cell_type": "code",
   "execution_count": 110,
   "metadata": {},
   "outputs": [
    {
     "name": "stdout",
     "output_type": "stream",
     "text": [
      "tensor([[0.9975, 0.9975],\n",
      "        [0.9975, 0.9975],\n",
      "        [0.9975, 0.9975]], grad_fn=<MulBackward0>)\n",
      "tensor([[0.0025, 0.0025],\n",
      "        [0.0025, 0.0025],\n",
      "        [0.0025, 0.0025]])\n"
     ]
    }
   ],
   "source": [
    "x = torch.ones([3,2],requires_grad=True) # Gradient\n",
    "y = x + 5\n",
    "r = 1/(1 + torch.exp(-y)) # sigmoid of y\n",
    "print(r)\n",
    "s = torch.sum(r)\n",
    "s.backward()\n",
    "\n",
    "print(x.grad)\n"
   ]
  },
  {
   "cell_type": "markdown",
   "metadata": {},
   "source": [
    "### Auto diff example thst looks like  what we have been doing "
   ]
  },
  {
   "cell_type": "code",
   "execution_count": 111,
   "metadata": {},
   "outputs": [],
   "source": [
    "x = torch.randn([20,1],requires_grad=True)\n",
    "y = 3*x - 2"
   ]
  },
  {
   "cell_type": "code",
   "execution_count": 112,
   "metadata": {},
   "outputs": [],
   "source": [
    "w = torch.tensor([1.],requires_grad=True) # 1\n",
    "b = torch.tensor([1.],requires_grad=True)\n",
    "\n",
    "y_hat = w*x + b # predict\n",
    "\n",
    "loss = torch.sum(y_hat - y)**2  # squred loss\n"
   ]
  },
  {
   "cell_type": "code",
   "execution_count": 113,
   "metadata": {},
   "outputs": [
    {
     "name": "stdout",
     "output_type": "stream",
     "text": [
      "tensor(4966.6826, grad_fn=<PowBackward0>)\n"
     ]
    }
   ],
   "source": [
    "print(loss)"
   ]
  },
  {
   "cell_type": "code",
   "execution_count": 114,
   "metadata": {},
   "outputs": [],
   "source": [
    "loss.backward()"
   ]
  },
  {
   "cell_type": "code",
   "execution_count": 115,
   "metadata": {},
   "outputs": [
    {
     "name": "stdout",
     "output_type": "stream",
     "text": [
      "tensor([-738.2010]) tensor([2818.9878])\n"
     ]
    }
   ],
   "source": [
    "print(w.grad , b.grad)"
   ]
  },
  {
   "cell_type": "markdown",
   "metadata": {},
   "source": [
    "#### Do it in a  loop"
   ]
  },
  {
   "cell_type": "code",
   "execution_count": 122,
   "metadata": {},
   "outputs": [
    {
     "name": "stdout",
     "output_type": "stream",
     "text": [
      "1.0 1.0\n",
      "1.4697357416152954 -0.13123321533203125\n",
      "1.9693422317504883 -0.8108700513839722\n",
      "2.4009382724761963 -1.1380658149719238\n",
      "2.5782437324523926 -1.4525450468063354\n",
      "2.8269524574279785 -1.6842831373214722\n",
      "2.9601054191589355 -1.8308792114257812\n",
      "2.971808910369873 -1.8986642360687256\n",
      "2.9898529052734375 -1.9418596029281616\n",
      "3.0057640075683594 -1.9667999744415283\n",
      "3.002821922302246 -1.9802982807159424\n",
      "3.002661943435669 -1.9880516529083252\n",
      "3.0020971298217773 -1.9927898645401\n",
      "3.0010766983032227 -1.9956815242767334\n",
      "3.000615358352661 -1.997442603111267\n",
      "3.000176191329956 -1.9985328912734985\n",
      "3.00026535987854 -1.9991012811660767\n",
      "3.0000975131988525 -1.9994844198226929\n",
      "3.00009822845459 -1.9996833801269531\n",
      "3.000028371810913 -1.9998224973678589\n",
      "3.000028133392334 -1.9998918771743774\n",
      "3.0000226497650146 -1.999934196472168\n",
      "3.0000100135803223 -1.999959945678711\n",
      "3.000007390975952 -1.9999756813049316\n",
      "3.0000038146972656 -1.999985694885254\n",
      "3.0000009536743164 -1.9999918937683105\n",
      "3.000000476837158 -1.9999951124191284\n",
      "3.0 -1.9999970197677612\n",
      "3.000000476837158 -1.9999982118606567\n",
      "3.0 -1.9999990463256836\n",
      "3.0 -1.9999994039535522\n",
      "3.0 -1.9999996423721313\n",
      "3.0 -1.999999761581421\n",
      "3.0 -1.9999998807907104\n",
      "3.0 -1.9999998807907104\n",
      "3.0 -1.9999998807907104\n",
      "3.0 -1.9999998807907104\n",
      "3.0 -1.9999998807907104\n",
      "3.0 -1.9999998807907104\n",
      "3.0 -1.9999998807907104\n",
      "3.0 -1.9999998807907104\n",
      "3.0 -1.9999998807907104\n",
      "3.0 -1.9999998807907104\n",
      "3.0 -1.9999998807907104\n",
      "3.0 -1.9999998807907104\n",
      "3.0 -1.9999998807907104\n",
      "3.0 -1.9999998807907104\n",
      "3.0 -1.9999998807907104\n",
      "3.0 -1.9999998807907104\n",
      "3.0 -1.9999998807907104\n",
      "3.0 -1.9999998807907104\n",
      "3.0 -1.9999998807907104\n",
      "3.0 -1.9999998807907104\n",
      "3.0 -1.9999998807907104\n",
      "3.0 -1.9999998807907104\n",
      "3.0 -1.9999998807907104\n",
      "3.0 -1.9999998807907104\n",
      "3.0 -1.9999998807907104\n",
      "3.0 -1.9999998807907104\n",
      "3.0 -1.9999998807907104\n",
      "3.0 -1.9999998807907104\n",
      "3.0 -1.9999998807907104\n",
      "3.0 -1.9999998807907104\n",
      "3.0 -1.9999998807907104\n",
      "3.0 -1.9999998807907104\n",
      "3.0 -1.9999998807907104\n",
      "3.0 -1.9999998807907104\n",
      "3.0 -1.9999998807907104\n",
      "3.0 -1.9999998807907104\n",
      "3.0 -1.9999998807907104\n",
      "3.0 -1.9999998807907104\n",
      "3.0 -1.9999998807907104\n",
      "3.0 -1.9999998807907104\n",
      "3.0 -1.9999998807907104\n",
      "3.0 -1.9999998807907104\n",
      "3.0 -1.9999998807907104\n",
      "3.0 -1.9999998807907104\n",
      "3.0 -1.9999998807907104\n",
      "3.0 -1.9999998807907104\n",
      "3.0 -1.9999998807907104\n",
      "3.0 -1.9999998807907104\n",
      "3.0 -2.0\n",
      "3.0 -2.0\n",
      "3.0 -2.0\n",
      "3.0 -2.0\n",
      "3.0 -2.0\n",
      "3.0 -2.0\n",
      "3.0 -2.0\n",
      "3.0 -2.0\n",
      "3.0 -2.0\n",
      "3.0 -2.0\n",
      "3.0 -2.0\n",
      "3.0 -2.0\n",
      "3.0 -2.0\n",
      "3.0 -2.0\n",
      "3.0 -2.0\n",
      "3.0 -2.0\n",
      "3.0 -2.0\n",
      "3.0 -2.0\n",
      "3.0 -2.0\n",
      "3.0 -2.0\n"
     ]
    }
   ],
   "source": [
    "learning_rate = 0.01\n",
    "\n",
    "w = torch.tensor([1.],requires_grad=True)\n",
    "b = torch.tensor([1.],requires_grad=True)\n",
    "\n",
    "print(w.item(),b.item())\n",
    "\n",
    "for i in range(100):\n",
    "    x = torch.randn([20,1])\n",
    "    y = 3*x - 2\n",
    "\n",
    "    y_hat = w*x + b\n",
    "    loss = torch.sum((y_hat - y)**2)\n",
    "\n",
    "    loss.backward()\n",
    "\n",
    "    with torch.no_grad(): # no gradient to understand code\n",
    "        w -= learning_rate*w.grad    # w = w - eta * delta_w\n",
    "        b -= learning_rate*b.grad\n",
    "\n",
    "        w.grad.zero_()\n",
    "        b.grad.zero_()\n",
    "\n",
    "    print(w.item(),b.item()) # each item save and print\n",
    "\n",
    "\n"
   ]
  },
  {
   "cell_type": "markdown",
   "metadata": {},
   "source": [
    "## Do it for a large problem"
   ]
  },
  {
   "cell_type": "code",
   "execution_count": 123,
   "metadata": {},
   "outputs": [
    {
     "name": "stdout",
     "output_type": "stream",
     "text": [
      "CPU times: total: 3min 20s\n",
      "Wall time: 49.6 s\n"
     ]
    }
   ],
   "source": [
    "%%time\n",
    "learning_rate = 0.001\n",
    "N = 10000000\n",
    "epochs = 200\n",
    "\n",
    "w = torch.rand([N], requires_grad=True)\n",
    "b = torch.ones([1], requires_grad=True)\n",
    "\n",
    "# print(torch.mean(w).item(), b.item())\n",
    "\n",
    "for i in range(epochs):\n",
    "  \n",
    "  x = torch.randn([N])\n",
    "  y = torch.dot(3*torch.ones([N]), x) - 2\n",
    "  \n",
    "  y_hat = torch.dot(w, x) + b\n",
    "  loss = torch.sum((y_hat - y)**2)\n",
    "  \n",
    "  loss.backward()\n",
    "  \n",
    "  with torch.no_grad():\n",
    "    w -= learning_rate * w.grad\n",
    "    b -= learning_rate * b.grad\n",
    "    \n",
    "    w.grad.zero_()\n",
    "    b.grad.zero_()\n",
    "\n",
    "#   print(torch.mean(w).item(), b.item())\n",
    "  "
   ]
  },
  {
   "cell_type": "code",
   "execution_count": 124,
   "metadata": {},
   "outputs": [
    {
     "ename": "IndentationError",
     "evalue": "expected an indented block after 'with' statement on line 20 (<unknown>, line 21)",
     "output_type": "error",
     "traceback": [
      "Traceback \u001b[1;36m(most recent call last)\u001b[0m:\n",
      "\u001b[0m  File \u001b[0;32mc:\\ProgramData\\anaconda3\\Lib\\site-packages\\IPython\\core\\interactiveshell.py:3577\u001b[0m in \u001b[0;35mrun_code\u001b[0m\n    exec(code_obj, self.user_global_ns, self.user_ns)\u001b[0m\n",
      "\u001b[0m  Cell \u001b[0;32mIn[124], line 1\u001b[0m\n    get_ipython().run_cell_magic('time', '', 'learning_rate = 0.001\\nN = 10000000\\nepochs = 200\\n\\nw = torch.rand([N], requires_grad=True, device=cuda0)\\nb = torch.ones([1], requires_grad=True, device=cuda0)\\n\\n# print(torch.mean(w).item(), b.item())\\n\\nfor i in range(epochs):\\n  \\n  x = torch.randn([N], device=cuda0)\\n  y = torch.dot(3*torch.ones([N], device=cuda0), x) - 2\\n  \\n  y_hat = torch.dot(w, x) + b\\n  loss = torch.sum((y_hat - y)**2)\\n  \\n  loss.backward()\\n  \\n  with torch.no_grad():\\nw -= learning_rate * w.grad\\nb -= learning_rate * b.grad\\n\\nw.grad.zero_()\\nb.grad.zero_()\\n\\n  #print(torch.mean(w).item(), b.item())\\n  \\n')\u001b[0m\n",
      "\u001b[0m  File \u001b[0;32mc:\\ProgramData\\anaconda3\\Lib\\site-packages\\IPython\\core\\interactiveshell.py:2541\u001b[0m in \u001b[0;35mrun_cell_magic\u001b[0m\n    result = fn(*args, **kwargs)\u001b[0m\n",
      "\u001b[0m  File \u001b[0;32mc:\\ProgramData\\anaconda3\\Lib\\site-packages\\IPython\\core\\magics\\execution.py:1296\u001b[0m in \u001b[0;35mtime\u001b[0m\n    expr_ast = self.shell.compile.ast_parse(expr)\u001b[0m\n",
      "\u001b[1;36m  File \u001b[1;32mc:\\ProgramData\\anaconda3\\Lib\\site-packages\\IPython\\core\\compilerop.py:86\u001b[1;36m in \u001b[1;35mast_parse\u001b[1;36m\n\u001b[1;33m    return compile(source, filename, symbol, self.flags | PyCF_ONLY_AST, 1)\u001b[1;36m\n",
      "\u001b[1;36m  File \u001b[1;32m<unknown>:21\u001b[1;36m\u001b[0m\n\u001b[1;33m    w -= learning_rate * w.grad\u001b[0m\n\u001b[1;37m                               ^\u001b[0m\n\u001b[1;31mIndentationError\u001b[0m\u001b[1;31m:\u001b[0m expected an indented block after 'with' statement on line 20\n"
     ]
    }
   ],
   "source": [
    "    %%time\n",
    "learning_rate = 0.001\n",
    "N = 10000000\n",
    "epochs = 200\n",
    "\n",
    "w = torch.rand([N], requires_grad=True, device=cuda0)\n",
    "b = torch.ones([1], requires_grad=True, device=cuda0)\n",
    "\n",
    "# print(torch.mean(w).item(), b.item())\n",
    "\n",
    "for i in range(epochs):\n",
    "  \n",
    "  x = torch.randn([N], device=cuda0)\n",
    "  y = torch.dot(3*torch.ones([N], device=cuda0), x) - 2\n",
    "  \n",
    "  y_hat = torch.dot(w, x) + b\n",
    "  loss = torch.sum((y_hat - y)**2)\n",
    "  \n",
    "  loss.backward()\n",
    "  \n",
    "  with torch.no_grad():\n",
    "    w -= learning_rate * w.grad\n",
    "    b -= learning_rate * b.grad\n",
    "    \n",
    "    w.grad.zero_()\n",
    "    b.grad.zero_()\n",
    "\n",
    "  #print(torch.mean(w).item(), b.item())\n",
    "  "
   ]
  },
  {
   "cell_type": "code",
   "execution_count": null,
   "metadata": {},
   "outputs": [],
   "source": []
  }
 ],
 "metadata": {
  "kernelspec": {
   "display_name": "base",
   "language": "python",
   "name": "python3"
  },
  "language_info": {
   "codemirror_mode": {
    "name": "ipython",
    "version": 3
   },
   "file_extension": ".py",
   "mimetype": "text/x-python",
   "name": "python",
   "nbconvert_exporter": "python",
   "pygments_lexer": "ipython3",
   "version": "3.12.4"
  }
 },
 "nbformat": 4,
 "nbformat_minor": 2
}
