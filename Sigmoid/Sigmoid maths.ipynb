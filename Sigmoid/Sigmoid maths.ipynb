{
 "cells": [
  {
   "cell_type": "code",
   "execution_count": 1,
   "metadata": {},
   "outputs": [],
   "source": [
    "import numpy as np \n",
    "\n",
    "# Sigmoid function\n",
    "def Sigmoid(z):\n",
    "    return 1 / (1 + np.exp(-z))\n"
   ]
  },
  {
   "attachments": {
    "image-2.png": {
     "image/png": "[encoded data removed]"
    }
   },
   "cell_type": "markdown",
   "metadata": {},
   "source": [
    "![image-2.png](attachment:image-2.png)"
   ]
  },
  {
   "cell_type": "code",
   "execution_count": 2,
   "metadata": {},
   "outputs": [],
   "source": [
    "# Loss function\n",
    "def loss(y,y_hat):\n",
    "    return -np.mean(y*np.log(y_hat) + (1-y)*np.log(1-y_hat))"
   ]
  },
  {
   "cell_type": "code",
   "execution_count": 3,
   "metadata": {},
   "outputs": [
    {
     "name": "stdout",
     "output_type": "stream",
     "text": [
      "Epoch 0,loss : 0.6931471805599453\n",
      "Weights: [0.05 0.05]\n",
      "Bias: 0.0\n"
     ]
    }
   ],
   "source": [
    "# Gradient descent\n",
    "\n",
    "def Gradient_descent(x,y,learning_rate = 0.01,epochs = 1000):\n",
    "    # Initialize weights and bias\n",
    "    w = np.zeros(x.shape[1]) # x.shape[0] → Number of row, x.shape[1] → Number of columns (features)., types of inputs eg - : age , place different featurs in colom\n",
    "    b = 0\n",
    "    n = len(y)\n",
    "\n",
    "    for epoch in range(epochs):\n",
    "        # Compute predictions\n",
    "        z = np.dot(x,w) + b\n",
    "        y_hat = Sigmoid(z)\n",
    "\n",
    "        # Compute gradients\n",
    "        dw = (1/n) * np.dot(x.T,(y_hat - y))\n",
    "        db = (1/n) * np.sum(y_hat - y)\n",
    "\n",
    "        # Update weights and bias\n",
    "\n",
    "        w = w - learning_rate*dw\n",
    "        b = b - learning_rate * db\n",
    "\n",
    "         # Print loss every 100 epochs # current epoch is a multiple of 100.\n",
    "        if epoch % 100 == 0:\n",
    "            print(f\"Epoch {epoch},loss : {loss(y,y_hat)}\")\n",
    "\n",
    "        return w , b \n",
    "\n",
    "# Example usage\n",
    "X = np.array([[1, 2], [2, 3], [3, 4], [4, 5]])\n",
    "y = np.array([0, 0, 1, 1])\n",
    "\n",
    "w, b = Gradient_descent(X, y, learning_rate=0.1, epochs=1000)\n",
    "print(\"Weights:\", w)\n",
    "print(\"Bias:\", b)"
   ]
  },
  {
   "cell_type": "code",
   "execution_count": null,
   "metadata": {},
   "outputs": [],
   "source": []
  }
 ],
 "metadata": {
  "kernelspec": {
   "display_name": "base",
   "language": "python",
   "name": "python3"
  },
  "language_info": {
   "codemirror_mode": {
    "name": "ipython",
    "version": 3
   },
   "file_extension": ".py",
   "mimetype": "text/x-python",
   "name": "python",
   "nbconvert_exporter": "python",
   "pygments_lexer": "ipython3",
   "version": "3.12.4"
  }
 },
 "nbformat": 4,
 "nbformat_minor": 2
}
