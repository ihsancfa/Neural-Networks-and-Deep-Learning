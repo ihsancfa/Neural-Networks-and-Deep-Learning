{
 "cells": [
  {
   "cell_type": "code",
   "execution_count": 1,
   "metadata": {},
   "outputs": [],
   "source": [
    "import pandas as pd\n",
    "from sklearn.feature_extraction.text import TfidfVectorizer\n",
    "from sklearn.linear_model import LogisticRegression\n",
    "from sklearn.pipeline import make_pipeline\n",
    "from sklearn.model_selection import train_test_split\n",
    "from sklearn.metrics import accuracy_score\n",
    "import xlwings as xw\n",
    "from sklearn.metrics import accuracy_score\n",
    "import re\n",
    "\n",
    "\n",
    "\n",
    "\n",
    "cdf = pd.read_csv(r\"T:\\My Drive\\000 ihsan\\02 Courses\\003GIT\\Neural Networks and Deep Learning\\Textclassification oops\\day_book_report_20250205.csv\")\n"
   ]
  },
  {
   "cell_type": "markdown",
   "metadata": {},
   "source": [
    "### Data Clear "
   ]
  },
  {
   "cell_type": "code",
   "execution_count": 2,
   "metadata": {},
   "outputs": [
    {
     "data": {
      "text/html": [
       "<div>\n",
       "<style scoped>\n",
       "    .dataframe tbody tr th:only-of-type {\n",
       "        vertical-align: middle;\n",
       "    }\n",
       "\n",
       "    .dataframe tbody tr th {\n",
       "        vertical-align: top;\n",
       "    }\n",
       "\n",
       "    .dataframe thead th {\n",
       "        text-align: right;\n",
       "    }\n",
       "</style>\n",
       "<table border=\"1\" class=\"dataframe\">\n",
       "  <thead>\n",
       "    <tr style=\"text-align: right;\">\n",
       "      <th></th>\n",
       "      <th>Debit Account</th>\n",
       "      <th>Description</th>\n",
       "    </tr>\n",
       "  </thead>\n",
       "  <tbody>\n",
       "    <tr>\n",
       "      <th>0</th>\n",
       "      <td>GVAC Academic Program expense</td>\n",
       "      <td>ARTS EXPENSE</td>\n",
       "    </tr>\n",
       "    <tr>\n",
       "      <th>1</th>\n",
       "      <td>GVAC Academic Program expense</td>\n",
       "      <td>CLUB PROGRAMME</td>\n",
       "    </tr>\n",
       "    <tr>\n",
       "      <th>2</th>\n",
       "      <td>GVAC Academic Program expense</td>\n",
       "      <td>REMUNERATION FOR PROGRAM</td>\n",
       "    </tr>\n",
       "    <tr>\n",
       "      <th>3</th>\n",
       "      <td>GVAC Academic Program expense</td>\n",
       "      <td>FOR PROGRAMME</td>\n",
       "    </tr>\n",
       "    <tr>\n",
       "      <th>4</th>\n",
       "      <td>GVAC BANK EXPENSE</td>\n",
       "      <td>BANK CHARGE , BANK</td>\n",
       "    </tr>\n",
       "    <tr>\n",
       "      <th>5</th>\n",
       "      <td>GVAC Printing &amp; Statinary</td>\n",
       "      <td>PRINTER TONER</td>\n",
       "    </tr>\n",
       "    <tr>\n",
       "      <th>6</th>\n",
       "      <td>GVAC Building Maintenence</td>\n",
       "      <td>WORK , CONTRACT , FIROS , BUILDING ,FIROZ</td>\n",
       "    </tr>\n",
       "    <tr>\n",
       "      <th>7</th>\n",
       "      <td>GVAC Admin Expense</td>\n",
       "      <td>ICF , MEMBERSHIP</td>\n",
       "    </tr>\n",
       "    <tr>\n",
       "      <th>8</th>\n",
       "      <td>GVAC First aid &amp;medical expenses</td>\n",
       "      <td>FA , MEDICINE , HOSPITAL , FIRSTAID</td>\n",
       "    </tr>\n",
       "    <tr>\n",
       "      <th>9</th>\n",
       "      <td>GVAC Electric  and plumbing Exp</td>\n",
       "      <td>FIRE , SAFETY  , RENEWAL , WINPOWER</td>\n",
       "    </tr>\n",
       "    <tr>\n",
       "      <th>10</th>\n",
       "      <td>GVAC News papers &amp; Perodicals</td>\n",
       "      <td>JOURNALS , NEWSPAPERS ,  NEWS PAPPER</td>\n",
       "    </tr>\n",
       "    <tr>\n",
       "      <th>11</th>\n",
       "      <td>GVAC Refreshment Expense</td>\n",
       "      <td>CANTEEN , REFRESHMENT</td>\n",
       "    </tr>\n",
       "    <tr>\n",
       "      <th>12</th>\n",
       "      <td>GVAC Univ. Application fee</td>\n",
       "      <td>AICTE, AFFILIATION ,RENEWAL , AFFILIATION</td>\n",
       "    </tr>\n",
       "    <tr>\n",
       "      <th>13</th>\n",
       "      <td>GVAC Magazine Expense</td>\n",
       "      <td>MAGAZINE FEE , MAGAZINE EXPENSES</td>\n",
       "    </tr>\n",
       "    <tr>\n",
       "      <th>14</th>\n",
       "      <td>GVAC Cleaning Expenses</td>\n",
       "      <td>DETERGENTS , CLEANING ,</td>\n",
       "    </tr>\n",
       "    <tr>\n",
       "      <th>15</th>\n",
       "      <td>GVAC Academic Program expense</td>\n",
       "      <td>ARTS 2025 EXPENSE FOR MOMENTOUS CHIEF GUESTS,S...</td>\n",
       "    </tr>\n",
       "    <tr>\n",
       "      <th>16</th>\n",
       "      <td>GVAC Academic Program expense</td>\n",
       "      <td>EXPENSES FOR CZONE COMPETITION 2025 EMEA COLLE...</td>\n",
       "    </tr>\n",
       "    <tr>\n",
       "      <th>17</th>\n",
       "      <td>GVAC Academic Program expense</td>\n",
       "      <td>REIMBURSEMENT OF ED CLUB PROGRAMME EXP ON 20.0...</td>\n",
       "    </tr>\n",
       "    <tr>\n",
       "      <th>18</th>\n",
       "      <td>GVAC Academic Program expense</td>\n",
       "      <td>REMUNERATION FOR BAFT ASSOCIATION INAGU PROGRA...</td>\n",
       "    </tr>\n",
       "    <tr>\n",
       "      <th>19</th>\n",
       "      <td>GVAC Academic Program expense</td>\n",
       "      <td>REMUNARATION FOR LIBRARY &amp;MALAYALAM CLUBS PROG...</td>\n",
       "    </tr>\n",
       "  </tbody>\n",
       "</table>\n",
       "</div>"
      ],
      "text/plain": [
       "                       Debit Account  \\\n",
       "0      GVAC Academic Program expense   \n",
       "1      GVAC Academic Program expense   \n",
       "2      GVAC Academic Program expense   \n",
       "3      GVAC Academic Program expense   \n",
       "4                  GVAC BANK EXPENSE   \n",
       "5          GVAC Printing & Statinary   \n",
       "6         GVAC Building Maintenence    \n",
       "7                 GVAC Admin Expense   \n",
       "8   GVAC First aid &medical expenses   \n",
       "9    GVAC Electric  and plumbing Exp   \n",
       "10     GVAC News papers & Perodicals   \n",
       "11          GVAC Refreshment Expense   \n",
       "12        GVAC Univ. Application fee   \n",
       "13             GVAC Magazine Expense   \n",
       "14            GVAC Cleaning Expenses   \n",
       "15     GVAC Academic Program expense   \n",
       "16     GVAC Academic Program expense   \n",
       "17     GVAC Academic Program expense   \n",
       "18     GVAC Academic Program expense   \n",
       "19     GVAC Academic Program expense   \n",
       "\n",
       "                                          Description  \n",
       "0                                        ARTS EXPENSE  \n",
       "1                                      CLUB PROGRAMME  \n",
       "2                            REMUNERATION FOR PROGRAM  \n",
       "3                                       FOR PROGRAMME  \n",
       "4                                 BANK CHARGE , BANK   \n",
       "5                                       PRINTER TONER  \n",
       "6           WORK , CONTRACT , FIROS , BUILDING ,FIROZ  \n",
       "7                                    ICF , MEMBERSHIP  \n",
       "8                 FA , MEDICINE , HOSPITAL , FIRSTAID  \n",
       "9                 FIRE , SAFETY  , RENEWAL , WINPOWER  \n",
       "10               JOURNALS , NEWSPAPERS ,  NEWS PAPPER  \n",
       "11                              CANTEEN , REFRESHMENT  \n",
       "12          AICTE, AFFILIATION ,RENEWAL , AFFILIATION  \n",
       "13                   MAGAZINE FEE , MAGAZINE EXPENSES  \n",
       "14                           DETERGENTS , CLEANING ,   \n",
       "15  ARTS 2025 EXPENSE FOR MOMENTOUS CHIEF GUESTS,S...  \n",
       "16  EXPENSES FOR CZONE COMPETITION 2025 EMEA COLLE...  \n",
       "17  REIMBURSEMENT OF ED CLUB PROGRAMME EXP ON 20.0...  \n",
       "18  REMUNERATION FOR BAFT ASSOCIATION INAGU PROGRA...  \n",
       "19  REMUNARATION FOR LIBRARY &MALAYALAM CLUBS PROG...  "
      ]
     },
     "execution_count": 2,
     "metadata": {},
     "output_type": "execute_result"
    }
   ],
   "source": [
    "cdf = pd.DataFrame(cdf)\n",
    "cdf = cdf[[\"Debit Account\",\"Description\"]]\n",
    "#cdf['Description'] = cdf['Description'].replace({r'[0-9,\\.?[\\]/:\\-&@#$*]': ''}, regex=True)\n",
    "cdf[\"Description\"] = cdf[\"Description\"].str.upper()\n",
    "\n",
    "\n",
    "cdf.head(20)\n",
    "\n"
   ]
  },
  {
   "cell_type": "markdown",
   "metadata": {},
   "source": [
    " ### \" \".join(...) \n",
    " - Joins the list of matched words into a single string separated by spaces.\n",
    "\n",
    "### re.findall(pattern, text)  \n",
    ",searches for all matches of the pattern in the given text.\n",
    "\n",
    "### \\b \n",
    "match whole words only, not substrings.\n",
    "\n",
    "### (?: ... ) \n",
    "is a non-capturing group, meaning it groups multiple options without storing the matched group separately.\n",
    "r'\\b(?:' → Starts the regex pattern:\n",
    "+ r')\\b' → Closes the regex pattern:\n",
    "s?\tAllows an optional \"s\" at the end of each keyword\n",
    "\n",
    "### \"|\".join(keywords) - \n",
    "eg -: keywords = [\"Expense\", \"Momentous\", \"Guests\", \"Competition\"]\n",
    "\"|\".join(keywords)\n",
    "\"Expense|Momentous|Guests|Competition\"\n"
   ]
  },
  {
   "cell_type": "code",
   "execution_count": 3,
   "metadata": {},
   "outputs": [],
   "source": [
    "keywords = [\"ARTS EXPENSE\", \"COMPETITION\", \"CLUB PROGRAMME\", \"REMUNERATION\", \"PROGRAM\", \"PRINTER TONER\", \"FEUL\", \"FUEL\",\n",
    "            \"ALTO\", \"SERVICE\", \"CAR\", \"WASHING\", \"ESAF\", \"BANK CHARGE\", \"DETERGENTS\", \"FIRE\", \"SAFETY\", \"PLUMBING\", \n",
    "            \"WATER TEST\", \"LIFT\", \"MAINTENANCE\", \"MEDICINE\", \"FA\", \"KSEB\", \"\", \"CHEMISTRY\", \"LAB\", \"CHEMICALS\", \n",
    "            \"EQUIPMENTS\", \"INTERSTEEL WORK\", \"INTERNET\", \"\", \"BSNL\", \"RECHARGE\", \"INTERNET\", \"JIO\", \"NEWSPAPERS\", \n",
    "            \"STATIONARY\", \"OFFICE\", \"ITEMS\", \"MILK\", \"SNACKS\", \"MARKER\", \"INK\", \"AIR FRESHENER\", \"REGISTER\", \"TONER\", \n",
    "            \"LETTER PAD\", \"PRINTING\", \"CHARGE\", \"FILE\", \"BOOK\", \"STAFF\", \"MEETING\", \"REFRESHMENT\", \"TA\", \"PROGRAMME\", \n",
    "            \"REMUNERATION\", \"PRINCIPAL\", \"STAFF TRIP\", \"INSPECTION\", \"FOR\", \"MAGAZINE\", \"RESERVE\", \"FUND\", \"AICTE\", \n",
    "            \"AFFILIATION\", \"RENEWAL\",\"ARTS\",\"EXPENSE\",\"MOMENTOUS\",\"MEMBERSHIP\",\"ICF\",\"FIROZ\",\"WORK\",\"PROJECTOR\",\"REPLACEMENT\",\"FIRSTAID\",\"HOSPITAL\",\"CONTRACT\",\n",
    "            \"BUILDING\",\"BANK\",\"CHARGE\",\"ISO\",\"CERTIFICATION\",\"JOURNALS\",\"PERODICALS\",\"NEWS PAPER\",\"CANTEEN\",\"AFFLIATION\",\"AICTE\",\"INTER NET\",\"NET\",\"COLOUR PEN\",\n",
    "            \"ID CARD\",\"BINDING\",\"A4\",\"A3\"]\n"
   ]
  },
  {
   "cell_type": "code",
   "execution_count": 4,
   "metadata": {},
   "outputs": [
    {
     "data": {
      "text/html": [
       "<div>\n",
       "<style scoped>\n",
       "    .dataframe tbody tr th:only-of-type {\n",
       "        vertical-align: middle;\n",
       "    }\n",
       "\n",
       "    .dataframe tbody tr th {\n",
       "        vertical-align: top;\n",
       "    }\n",
       "\n",
       "    .dataframe thead th {\n",
       "        text-align: right;\n",
       "    }\n",
       "</style>\n",
       "<table border=\"1\" class=\"dataframe\">\n",
       "  <thead>\n",
       "    <tr style=\"text-align: right;\">\n",
       "      <th></th>\n",
       "      <th>Description</th>\n",
       "      <th>Debit Account</th>\n",
       "    </tr>\n",
       "  </thead>\n",
       "  <tbody>\n",
       "    <tr>\n",
       "      <th>0</th>\n",
       "      <td>ARTS EXPENSE</td>\n",
       "      <td>GVAC Academic Program expense</td>\n",
       "    </tr>\n",
       "    <tr>\n",
       "      <th>1</th>\n",
       "      <td>CLUB PROGRAMME</td>\n",
       "      <td>GVAC Academic Program expense</td>\n",
       "    </tr>\n",
       "    <tr>\n",
       "      <th>2</th>\n",
       "      <td>REMUNERATION   FOR  PROGRAM</td>\n",
       "      <td>GVAC Academic Program expense</td>\n",
       "    </tr>\n",
       "    <tr>\n",
       "      <th>3</th>\n",
       "      <td>FOR   PROGRAMME</td>\n",
       "      <td>GVAC Academic Program expense</td>\n",
       "    </tr>\n",
       "    <tr>\n",
       "      <th>4</th>\n",
       "      <td>BANK CHARGE   BANK</td>\n",
       "      <td>GVAC BANK EXPENSE</td>\n",
       "    </tr>\n",
       "  </tbody>\n",
       "</table>\n",
       "</div>"
      ],
      "text/plain": [
       "                    Description                  Debit Account\n",
       "0                 ARTS EXPENSE   GVAC Academic Program expense\n",
       "1               CLUB PROGRAMME   GVAC Academic Program expense\n",
       "2  REMUNERATION   FOR  PROGRAM   GVAC Academic Program expense\n",
       "3              FOR   PROGRAMME   GVAC Academic Program expense\n",
       "4           BANK CHARGE   BANK               GVAC BANK EXPENSE"
      ]
     },
     "execution_count": 4,
     "metadata": {},
     "output_type": "execute_result"
    }
   ],
   "source": [
    "# Convert to DataFrame\n",
    "df = pd.DataFrame(cdf, columns=[\"Description\", \"Debit Account\"])\n",
    "\n",
    "# Function to filter words from text\n",
    "def filter_text(text):\n",
    "    return \" \".join(re.findall(r'\\b(?:' + \"|\".join(keywords) + r')s?\\b', text)) # above note\n",
    "\n",
    "# Apply function to each row in \"Description\" column\n",
    "df[\"Description\"] = df[\"Description\"].apply(filter_text)\n",
    "df[\"Description\"] = df[\"Description\"].str.upper()\n",
    "df = df.dropna(subset=[\"Description\"])\n",
    "\n",
    "\n",
    "\n",
    "df.head(5)"
   ]
  },
  {
   "cell_type": "markdown",
   "metadata": {},
   "source": [
    "### Train model "
   ]
  },
  {
   "cell_type": "code",
   "execution_count": 5,
   "metadata": {},
   "outputs": [],
   "source": [
    "# Split dataset into training and testing sets (80% train, 20% test)\n",
    "X_train, X_test, y_train, y_test = train_test_split(df[\"Description\"], df[\"Debit Account\"], test_size=0.2, random_state=42)"
   ]
  },
  {
   "cell_type": "code",
   "execution_count": 6,
   "metadata": {},
   "outputs": [],
   "source": [
    "# Train TF-IDF + Logistic Regression model , Converts text into numerical features\n",
    "vectorizer = TfidfVectorizer(ngram_range=(1,2))  # Unigrams(fuel, expense)(1,1) & bigrams(fuel, expense,fuel expense) (1,2)for better context\n",
    "model = LogisticRegression()\n",
    "\n",
    "# Combines TF-IDF vectorization and logistic regression into a single processing step\n",
    "pipeline = make_pipeline(vectorizer, model)\n",
    "\n",
    "# Train model\n",
    "pipeline.fit(X_train, y_train)\n",
    "\n",
    "\n",
    "\n",
    "# Function to predict Debit Account\n",
    "def predict(X_test):\n",
    "    if isinstance(X_test,str):            # check  X_test is an instance of the str class\n",
    "        X_test = [X_test]                 #  Ensure input is in a list format for prediction\n",
    "        \n",
    "    y_pred = pipeline.predict(X_test)\n",
    "\n",
    "    return \", \".join(y_pred)     #return str(y_pred).strip('[]').replace(\"'\", \"\") # remove square brackets and single quotes\n",
    "\n",
    "def get_accuracy(X_test, y_test):\n",
    "\n",
    "    if isinstance(X_test,str):            # check  X_test is an instance of the str class\n",
    "        X_test = [X_test]\n",
    "        \n",
    "    y_pred = pipeline.predict(X_test)      #y_pred = predict(X_test) , remove this output remove[]' no work that output in accuracy stage\n",
    "    accuracy = accuracy_score(y_test, y_pred)\n",
    "    \n",
    "    print(f\"Accuracy: {accuracy * 100:.2f}%\")\n",
    "    \n",
    "    "
   ]
  },
  {
   "cell_type": "markdown",
   "metadata": {},
   "source": [
    "### Accuracy check"
   ]
  },
  {
   "cell_type": "code",
   "execution_count": 7,
   "metadata": {},
   "outputs": [
    {
     "name": "stdout",
     "output_type": "stream",
     "text": [
      "Accuracy: 36.36%\n"
     ]
    }
   ],
   "source": [
    "get_accuracy(X_test,y_test)"
   ]
  },
  {
   "cell_type": "code",
   "execution_count": 8,
   "metadata": {},
   "outputs": [
    {
     "name": "stdout",
     "output_type": "stream",
     "text": [
      "Index(['Description', 'Debit Account'], dtype='object')\n"
     ]
    }
   ],
   "source": [
    "import numpy as np  \n",
    "df[\"Description\"] = df[\"Description\"].replace(\"\", \"xyz\")\n",
    "df.head(20)\n",
    "print(df.columns)\n"
   ]
  },
  {
   "cell_type": "markdown",
   "metadata": {},
   "source": [
    "### Predict "
   ]
  },
  {
   "cell_type": "code",
   "execution_count": 9,
   "metadata": {},
   "outputs": [
    {
     "name": "stderr",
     "output_type": "stream",
     "text": [
      "C:\\Users\\admin\\AppData\\Local\\Temp\\ipykernel_4288\\3945680298.py:7: FutureWarning: Downcasting behavior in `replace` is deprecated and will be removed in a future version. To retain the old behavior, explicitly call `result.infer_objects(copy=False)`. To opt-in to the future behavior, set `pd.set_option('future.no_silent_downcasting', True)`\n",
      "  adf['True'] = (adf['Debit Account(Y)'] == adf[\"Debit Account(Y')\"]).replace({True: 0, False: 1})\n"
     ]
    },
    {
     "data": {
      "text/html": [
       "<div>\n",
       "<style scoped>\n",
       "    .dataframe tbody tr th:only-of-type {\n",
       "        vertical-align: middle;\n",
       "    }\n",
       "\n",
       "    .dataframe tbody tr th {\n",
       "        vertical-align: top;\n",
       "    }\n",
       "\n",
       "    .dataframe thead th {\n",
       "        text-align: right;\n",
       "    }\n",
       "</style>\n",
       "<table border=\"1\" class=\"dataframe\">\n",
       "  <thead>\n",
       "    <tr style=\"text-align: right;\">\n",
       "      <th></th>\n",
       "      <th>Description</th>\n",
       "      <th>Description(flr)</th>\n",
       "      <th>Debit Account(Y)</th>\n",
       "      <th>Debit Account(Y')</th>\n",
       "      <th>True</th>\n",
       "    </tr>\n",
       "  </thead>\n",
       "  <tbody>\n",
       "    <tr>\n",
       "      <th>0</th>\n",
       "      <td>ARTS EXPENSE</td>\n",
       "      <td>ARTS EXPENSE</td>\n",
       "      <td>GVAC Academic Program expense</td>\n",
       "      <td>GVAC Academic Program expense</td>\n",
       "      <td>0</td>\n",
       "    </tr>\n",
       "    <tr>\n",
       "      <th>1</th>\n",
       "      <td>CLUB PROGRAMME</td>\n",
       "      <td>CLUB PROGRAMME</td>\n",
       "      <td>GVAC Academic Program expense</td>\n",
       "      <td>GVAC Academic Program expense</td>\n",
       "      <td>0</td>\n",
       "    </tr>\n",
       "    <tr>\n",
       "      <th>2</th>\n",
       "      <td>REMUNERATION FOR PROGRAM</td>\n",
       "      <td>REMUNERATION   FOR  PROGRAM</td>\n",
       "      <td>GVAC Academic Program expense</td>\n",
       "      <td>GVAC Academic Program expense</td>\n",
       "      <td>0</td>\n",
       "    </tr>\n",
       "    <tr>\n",
       "      <th>3</th>\n",
       "      <td>FOR PROGRAMME</td>\n",
       "      <td>FOR   PROGRAMME</td>\n",
       "      <td>GVAC Academic Program expense</td>\n",
       "      <td>GVAC Academic Program expense</td>\n",
       "      <td>0</td>\n",
       "    </tr>\n",
       "    <tr>\n",
       "      <th>4</th>\n",
       "      <td>BANK CHARGE , BANK</td>\n",
       "      <td>BANK CHARGE   BANK</td>\n",
       "      <td>GVAC BANK EXPENSE</td>\n",
       "      <td>GVAC TA &amp; other allowance</td>\n",
       "      <td>1</td>\n",
       "    </tr>\n",
       "  </tbody>\n",
       "</table>\n",
       "</div>"
      ],
      "text/plain": [
       "                Description              Description(flr)  \\\n",
       "0              ARTS EXPENSE                 ARTS EXPENSE    \n",
       "1            CLUB PROGRAMME               CLUB PROGRAMME    \n",
       "2  REMUNERATION FOR PROGRAM  REMUNERATION   FOR  PROGRAM    \n",
       "3             FOR PROGRAMME              FOR   PROGRAMME    \n",
       "4       BANK CHARGE , BANK            BANK CHARGE   BANK    \n",
       "\n",
       "                Debit Account(Y)              Debit Account(Y')  True  \n",
       "0  GVAC Academic Program expense  GVAC Academic Program expense     0  \n",
       "1  GVAC Academic Program expense  GVAC Academic Program expense     0  \n",
       "2  GVAC Academic Program expense  GVAC Academic Program expense     0  \n",
       "3  GVAC Academic Program expense  GVAC Academic Program expense     0  \n",
       "4              GVAC BANK EXPENSE      GVAC TA & other allowance     1  "
      ]
     },
     "execution_count": 9,
     "metadata": {},
     "output_type": "execute_result"
    }
   ],
   "source": [
    "adf = pd.DataFrame(columns=[\"Description\",\"Description(flr)\",\"Debit Account(Y)\",\"Debit Account(Y')\",\"True\"])\n",
    "adf[\"Debit Account(Y)\"] = df[\"Debit Account\"]\n",
    "adf[\"Description\"] = cdf[\"Description\"]\n",
    "adf[\"Description(flr)\"] = df[\"Description\"]\n",
    "adf[\"Debit Account(Y')\"] = df[\"Description\"].apply(lambda x: predict(x))\n",
    "\n",
    "adf['True'] = (adf['Debit Account(Y)'] == adf[\"Debit Account(Y')\"]).replace({True: 0, False: 1})\n",
    "adf.head()"
   ]
  },
  {
   "cell_type": "code",
   "execution_count": 10,
   "metadata": {},
   "outputs": [],
   "source": [
    "wb = xw.Book(r\"T:\\My Drive\\000 ihsan\\02 Courses\\003GIT\\Neural Networks and Deep Learning\\Textclassification oops\\Predict.xlsx\")\n",
    "\n",
    "\n",
    "\n",
    "sheet2 = wb.sheets[0]\n",
    "sheet2.range(\"A1\").value = adf # Write processed data\n",
    "sheet2.range(\"A1:H1\").font.bold = True\n",
    "sheet2.range(\"A:H\").autofit()"
   ]
  },
  {
   "cell_type": "code",
   "execution_count": 11,
   "metadata": {},
   "outputs": [
    {
     "data": {
      "text/plain": [
       "'GVAC Academic Program expense'"
      ]
     },
     "execution_count": 11,
     "metadata": {},
     "output_type": "execute_result"
    }
   ],
   "source": [
    "a = predict(\"programme\")\n",
    "a"
   ]
  },
  {
   "cell_type": "code",
   "execution_count": null,
   "metadata": {},
   "outputs": [],
   "source": []
  },
  {
   "cell_type": "code",
   "execution_count": null,
   "metadata": {},
   "outputs": [],
   "source": []
  },
  {
   "cell_type": "code",
   "execution_count": null,
   "metadata": {},
   "outputs": [],
   "source": []
  },
  {
   "cell_type": "code",
   "execution_count": null,
   "metadata": {},
   "outputs": [],
   "source": []
  },
  {
   "cell_type": "code",
   "execution_count": null,
   "metadata": {},
   "outputs": [],
   "source": []
  },
  {
   "cell_type": "code",
   "execution_count": null,
   "metadata": {},
   "outputs": [],
   "source": []
  }
 ],
 "metadata": {
  "kernelspec": {
   "display_name": "base",
   "language": "python",
   "name": "python3"
  },
  "language_info": {
   "codemirror_mode": {
    "name": "ipython",
    "version": 3
   },
   "file_extension": ".py",
   "mimetype": "text/x-python",
   "name": "python",
   "nbconvert_exporter": "python",
   "pygments_lexer": "ipython3",
   "version": "3.12.4"
  }
 },
 "nbformat": 4,
 "nbformat_minor": 2
}
